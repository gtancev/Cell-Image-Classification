{
 "cells": [
  {
   "cell_type": "code",
   "execution_count": 1,
   "metadata": {},
   "outputs": [
    {
     "name": "stderr",
     "output_type": "stream",
     "text": [
      "Using TensorFlow backend.\n"
     ]
    }
   ],
   "source": [
    "# ML libraries\n",
    "import tensorflow as tf\n",
    "from tensorflow import keras\n",
    "from keras.preprocessing.image import ImageDataGenerator\n",
    "\n",
    "# helper libraries\n",
    "import numpy as np\n",
    "import matplotlib.pyplot as plt\n",
    "\n",
    "# define line width and font size of plots\n",
    "plt.rcParams['lines.linewidth'] = 1.0\n",
    "plt.rcParams['font.size'] = 6.0\n",
    "plt.rcParams['axes.titlesize'] = 6.0"
   ]
  },
  {
   "cell_type": "code",
   "execution_count": 2,
   "metadata": {},
   "outputs": [],
   "source": [
    "# Preprocessing Definition\n",
    "train_datagen = ImageDataGenerator(rescale = 1./255,\n",
    "                                   shear_range = 0.2,\n",
    "                                   zoom_range = 0.2,\n",
    "                                   horizontal_flip = True)\n",
    "\n",
    "test_datagen = ImageDataGenerator(rescale = 1./255)"
   ]
  },
  {
   "cell_type": "code",
   "execution_count": 3,
   "metadata": {},
   "outputs": [
    {
     "name": "stdout",
     "output_type": "stream",
     "text": [
      "Found 25998 images belonging to 2 classes.\n",
      "Found 1560 images belonging to 2 classes.\n"
     ]
    }
   ],
   "source": [
    "# Load Images and Preprocessing (Resize, Scale, Batch Size Definition)\n",
    "img_size = 30\n",
    "batch_size = 32\n",
    "\n",
    "training_set = train_datagen.flow_from_directory('train',\n",
    "                                                 target_size = (img_size, img_size),\n",
    "                                                 batch_size = batch_size,\n",
    "                                                 class_mode = 'binary',\n",
    "                                                 color_mode = 'rgb')\n",
    " \n",
    "test_set = test_datagen.flow_from_directory('test',\n",
    "                                            target_size = (img_size, img_size),\n",
    "                                            batch_size = batch_size,\n",
    "                                            class_mode = 'binary',\n",
    "                                            color_mode = 'rgb')"
   ]
  },
  {
   "cell_type": "code",
   "execution_count": 4,
   "metadata": {},
   "outputs": [
    {
     "name": "stdout",
     "output_type": "stream",
     "text": [
      "The shape is (batch size, height, width, channels): (32, 30, 30, 3)\n"
     ]
    },
    {
     "data": {
      "image/png": "[encoded data removed]",
      "text/plain": [
       "<Figure size 212.4x212.4 with 1 Axes>"
      ]
     },
     "metadata": {},
     "output_type": "display_data"
    }
   ],
   "source": [
    "# Sanity Check\n",
    "print('The shape is (batch size, height, width, channels):',training_set[0][0].shape)\n",
    "\n",
    "# Pick and Plot a Random Example\n",
    "fig, ax = plt.subplots(1, 1,figsize=(2.95,2.95))\n",
    "ax.set_title('example')\n",
    "ax.imshow(training_set[0][0][0])\n",
    "plt.xticks(())\n",
    "plt.yticks(())\n",
    "plt.savefig('example',dpi=900,transparent=True,orientation='landscape',bbox_inches='tight')\n",
    "plt.savefig('example',dpi=900,transparent=True,orientation='landscape',bbox_inches='tight',format='pdf')"
   ]
  },
  {
   "cell_type": "code",
   "execution_count": 49,
   "metadata": {},
   "outputs": [
    {
     "name": "stdout",
     "output_type": "stream",
     "text": [
      "_________________________________________________________________\n",
      "Layer (type)                 Output Shape              Param #   \n",
      "=================================================================\n",
      "conv2d_20 (Conv2D)           (None, 30, 30, 5)         140       \n",
      "_________________________________________________________________\n",
      "max_pooling2d_20 (MaxPooling (None, 15, 15, 5)         0         \n",
      "_________________________________________________________________\n",
      "conv2d_21 (Conv2D)           (None, 15, 15, 10)        460       \n",
      "_________________________________________________________________\n",
      "max_pooling2d_21 (MaxPooling (None, 8, 8, 10)          0         \n",
      "_________________________________________________________________\n",
      "flatten_10 (Flatten)         (None, 640)               0         \n",
      "_________________________________________________________________\n",
      "dense_14 (Dense)             (None, 1)                 641       \n",
      "=================================================================\n",
      "Total params: 1,241\n",
      "Trainable params: 1,241\n",
      "Non-trainable params: 0\n",
      "_________________________________________________________________\n"
     ]
    }
   ],
   "source": [
    "# Model Definition\n",
    "\n",
    "training_set_size = 25998\n",
    "test_set_size = 1560\n",
    "\n",
    "model = keras.Sequential([\n",
    "    keras.layers.Convolution2D(5,(3,3),input_shape=(img_size,img_size,training_set[0][0].shape[3]),padding='same',data_format='channels_last',activation='relu'),\n",
    "    keras.layers.MaxPooling2D((2, 2), padding='same'),\n",
    "    keras.layers.Convolution2D(10,(3,3),padding='same',data_format='channels_last',activation='relu'),\n",
    "    keras.layers.MaxPooling2D((2, 2), padding='same'),\n",
    "    keras.layers.Flatten(),\n",
    "    #keras.layers.Dense(10, activation = 'relu'), # if you have a good CPU/GPU :S\n",
    "    keras.layers.Dense(1, activation = 'sigmoid')\n",
    "])\n",
    "\n",
    "model.compile(optimizer=tf.train.AdamOptimizer(), \n",
    "              loss='binary_crossentropy',\n",
    "              metrics=['accuracy'])\n",
    "\n",
    "model.summary()"
   ]
  },
  {
   "cell_type": "code",
   "execution_count": 50,
   "metadata": {},
   "outputs": [
    {
     "name": "stdout",
     "output_type": "stream",
     "text": [
      "Epoch 1/10\n",
      "813/812 [==============================] - 162s 199ms/step - loss: 0.6102 - acc: 0.6696 - val_loss: 0.5731 - val_acc: 0.6641\n",
      "Epoch 2/10\n",
      "813/812 [==============================] - 149s 184ms/step - loss: 0.4816 - acc: 0.7797 - val_loss: 0.3443 - val_acc: 0.8346\n",
      "Epoch 3/10\n",
      "813/812 [==============================] - 151s 186ms/step - loss: 0.3643 - acc: 0.8455 - val_loss: 0.2405 - val_acc: 0.8910\n",
      "Epoch 4/10\n",
      "813/812 [==============================] - 155s 191ms/step - loss: 0.2866 - acc: 0.8861 - val_loss: 0.1806 - val_acc: 0.9340\n",
      "Epoch 5/10\n",
      "813/812 [==============================] - 144s 177ms/step - loss: 0.2409 - acc: 0.9101 - val_loss: 0.1723 - val_acc: 0.9327\n",
      "Epoch 6/10\n",
      "813/812 [==============================] - 147s 181ms/step - loss: 0.2167 - acc: 0.9222 - val_loss: 0.1418 - val_acc: 0.9545\n",
      "Epoch 7/10\n",
      "813/812 [==============================] - 149s 184ms/step - loss: 0.1988 - acc: 0.9304 - val_loss: 0.1385 - val_acc: 0.9487\n",
      "Epoch 8/10\n",
      "813/812 [==============================] - 153s 188ms/step - loss: 0.1913 - acc: 0.9331 - val_loss: 0.1240 - val_acc: 0.9596\n",
      "Epoch 9/10\n",
      "813/812 [==============================] - 149s 184ms/step - loss: 0.1823 - acc: 0.9361 - val_loss: 0.1068 - val_acc: 0.9641\n",
      "Epoch 10/10\n",
      "813/812 [==============================] - 144s 177ms/step - loss: 0.1779 - acc: 0.9390 - val_loss: 0.1131 - val_acc: 0.9647\n"
     ]
    },
    {
     "data": {
      "text/plain": [
       "<tensorflow.python.keras.callbacks.History at 0x1c4c51b320>"
      ]
     },
     "execution_count": 50,
     "metadata": {},
     "output_type": "execute_result"
    }
   ],
   "source": [
    "# Model Fitting\n",
    "epochs = 5 # should lead to about 90% accuarcy\n",
    "\n",
    "model.fit_generator(training_set,\n",
    "                    steps_per_epoch = (training_set_size/batch_size),\n",
    "                    epochs = epochs,\n",
    "                    validation_data = test_set,\n",
    "                    validation_steps = (test_set_size/batch_size))"
   ]
  },
  {
   "cell_type": "code",
   "execution_count": null,
   "metadata": {},
   "outputs": [],
   "source": []
  }
 ],
 "metadata": {
  "kernelspec": {
   "display_name": "Python 3",
   "language": "python",
   "name": "python3"
  },
  "language_info": {
   "codemirror_mode": {
    "name": "ipython",
    "version": 3
   },
   "file_extension": ".py",
   "mimetype": "text/x-python",
   "name": "python",
   "nbconvert_exporter": "python",
   "pygments_lexer": "ipython3",
   "version": "3.6.8"
  }
 },
 "nbformat": 4,
 "nbformat_minor": 2
}
